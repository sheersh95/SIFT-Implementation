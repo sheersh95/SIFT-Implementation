{
 "cells": [
  {
   "cell_type": "code",
   "execution_count": 3,
   "metadata": {},
   "outputs": [],
   "source": [
    "import math\n",
    "import cv2\n",
    "import numpy as np"
   ]
  },
  {
   "cell_type": "code",
   "execution_count": 4,
   "metadata": {},
   "outputs": [],
   "source": [
    "def CalGaussianFunc(x,y,Sigma): #Calculate Gaussian Function\n",
    "    G = 1/(2*math.pi*Sigma*Sigma)*math.exp(-(x*x+y*y)/(2*Sigma*Sigma))\n",
    "    return G"
   ]
  },
  {
   "cell_type": "code",
   "execution_count": 5,
   "metadata": {},
   "outputs": [],
   "source": [
    "def GaussianKer(Sigma): #Creating the Gaussian Kernel\n",
    "    Gk = list()\n",
    "    Gker = list()\n",
    "    NorGK = list()\n",
    "    max = 0\n",
    "    for i in range(-3,4):\n",
    "        for j in range(-3,4):\n",
    "            C = CalGaussianFunc(i,j,Sigma)\n",
    "            Gk.append(C)        \n",
    "    for i in Gk:\n",
    "        if i>max:\n",
    "            max = abs(i)\n",
    "    for i in Gk:        \n",
    "        NorGK.append(abs(i)/max)\n",
    "    Gker = [NorGK[i:i+7] for i in range(0, len(Gk), 7)] #Reshape to get gaussian kernel\n",
    "    return Gker"
   ]
  },
  {
   "cell_type": "code",
   "execution_count": 6,
   "metadata": {},
   "outputs": [],
   "source": [
    "def Pad(img):\n",
    "    Ix=list()\n",
    "    for line in img:\n",
    "        line = list(line)\n",
    "        line.insert(0,0)   #Column Padding to perform convolution\n",
    "        line.insert(0,0)\n",
    "        line.insert(0,0)\n",
    "        line.insert(len(line),0)\n",
    "        line.insert(len(line),0)\n",
    "        line.insert(len(line),0)\n",
    "        Ix.append(line)\n",
    "    Opx = list()\n",
    "    RowPad = [ 0 for i in range(len(Ix[0])) ] #Row padding to perform convolution\n",
    "    Opx.append(RowPad)\n",
    "    Opx.append(RowPad)\n",
    "    Opx.append(RowPad)\n",
    "    for i in Ix:\n",
    "        Opx.append(i)\n",
    "    Opx.append(RowPad) \n",
    "    Opx.append(RowPad) \n",
    "    Opx.append(RowPad)\n",
    "    Opx = np.asarray(Opx)\n",
    "    return Opx"
   ]
  },
  {
   "cell_type": "code",
   "execution_count": 7,
   "metadata": {},
   "outputs": [],
   "source": [
    "def Convo(Gker,img):  #Performing Convolution\n",
    "    \n",
    "    Image = [[0]*img.shape[1] for i in range(img.shape[0])]\n",
    "    img = Pad(img)\n",
    "    Image = np.asarray(Image)\n",
    "    for i in range(3,img.shape[0]-3):     # Loop over every pixel of the image\n",
    "        for j in range(3,img.shape[1]-3):\n",
    "            x = img[i-3:i+4,j-3:j+4]\n",
    "            result = [[a*b for a, b in zip(k, l)] for k, l in zip(x, Gker)] #Element wise multiplication between the kernel and the sliced part of the image(For that pixel)\n",
    "            elex = 0\n",
    "            for row in result:\n",
    "                for ele in row: \n",
    "                    elex = elex+ele #Adding the all the products to generate the pixel value for that pixel\n",
    "    \n",
    "            Image[i-3][j-3] = elex\n",
    "    Opx_norm = [[0.0]*Image.shape[1] for i in range(Image.shape[0])] \n",
    "    Opx_norm = np.asarray(Opx_norm)\n",
    "    maxval = 0\n",
    "    for i in Image:      #Normalize after convolution\n",
    "        for j in i:\n",
    "            if maxval<abs(j):\n",
    "                 maxval = j\n",
    "    for i in range(0,Image.shape[0]):\n",
    "        for j in range(0,Image.shape[1]):\n",
    "            Opx_norm[i,j] = abs(Image[i,j])*255/maxval\n",
    "    return Opx_norm   "
   ]
  },
  {
   "cell_type": "code",
   "execution_count": 17,
   "metadata": {},
   "outputs": [],
   "source": [
    "def ResizeImage(img): #Resizing image for subsequent octaves\n",
    "    Image = [[0]*int((img.shape[1]/2)) for i in range(int((img.shape[0]/2)))]\n",
    "    Image = np.asarray(Image)\n",
    "    k = l = 0\n",
    "    for i in range(0,img.shape[0]-1,2):\n",
    "        l=0\n",
    "        for j in range(0,img.shape[1]-1,2):\n",
    "                Image[k,l] = img[i,j]\n",
    "                l=l+1\n",
    "        k=k+1\n",
    "        \n",
    "    return Image    "
   ]
  },
  {
   "cell_type": "code",
   "execution_count": 9,
   "metadata": {},
   "outputs": [],
   "source": [
    "def DoG(img1,img2):  #Function to calculate the Difference of Gaussians \n",
    "    Image = [[0.0]*img1.shape[1] for i in range(img1.shape[0])]\n",
    "    Image = np.asarray(Image)\n",
    "    Sum = 0\n",
    "    #Image = img1 - img2\n",
    "    for i in range(0,img1.shape[0]):\n",
    "        for j in range(0,img1.shape[1]):\n",
    "            Image[i,j] = img1[i,j] - img2[i,j]  #Element wise subtraction\n",
    "       #     Sum = Sum + Image[i,j]\n",
    "    Max = np.max(Image)\n",
    "    for k in range(0,img1.shape[0]):                 #Normalized DoG to display it\n",
    "        for l in range(0,img1.shape[1]):\n",
    "            Image[k,l] = Image[k,l]*255/Max\n",
    "            \n",
    "    return Image"
   ]
  },
  {
   "cell_type": "code",
   "execution_count": 10,
   "metadata": {},
   "outputs": [],
   "source": [
    "def FindKeyPoint(DoG1,DoG2,DoG3):  #Function to find ketpoints\n",
    "    X = list()\n",
    "    KeyPoint = list()\n",
    "    for i in range(1,DoG1.shape[0]-1):\n",
    "        for j in range(1,DoG1.shape[1]-1):\n",
    "            x1 = DoG1[i-1:i+2,j-1:j+2]\n",
    "            x2 = DoG2[i-1:i+2,j-1:j+2]\n",
    "            x3 = DoG3[i-1:i+2,j-1:j+2]\n",
    "            KeyPointx = i\n",
    "            KeyPointy = j\n",
    "            X = []\n",
    "            for k in range(3):\n",
    "                for l in range(3):\n",
    "                        X.append(x1[k,l])\n",
    "                        X.append(x2[k,l])\n",
    "                        X.append(x3[k,l])\n",
    "            Min = min(X)        \n",
    "            Max = max(X)\n",
    "            if x2[1,1]==Min or x2[1,1]==Max:\n",
    "                KeyPoint.append([KeyPointx,KeyPointy])\n",
    "    return KeyPoint            "
   ]
  },
  {
   "cell_type": "code",
   "execution_count": 45,
   "metadata": {},
   "outputs": [],
   "source": [
    "def ShowKeyPoint(KeyPoint,scale,Img): #Function to show keypoints on the original image\n",
    "    for x in range(len(KeyPoint)):\n",
    "        pt = KeyPoint[x]\n",
    "        Img[pt[0]*scale,pt[1]*scale] = 255\n",
    "        \n",
    "    return Img"
   ]
  },
  {
   "cell_type": "code",
   "execution_count": 48,
   "metadata": {},
   "outputs": [],
   "source": [
    "def FindLeftmostKey(Keypoint):\n",
    "    Left = list()\n",
    "    for i in range(5):\n",
    "        Left.append(Keypoint[i])\n",
    "        \n",
    "    return Left    "
   ]
  },
  {
   "cell_type": "code",
   "execution_count": 49,
   "metadata": {},
   "outputs": [],
   "source": [
    "Img = cv2.imread(\"task2.jpg\",0)   #Read image\n",
    "Sigma1 = [1/math.sqrt(2),1,math.sqrt(2),2,2*math.sqrt(2)] #1st Scale\n",
    "Sigma2 = [math.sqrt(2),2,2*math.sqrt(2),4,4*math.sqrt(2)] #2nd Scale\n",
    "Sigma3 = [2*math.sqrt(2),4,4*math.sqrt(2),8,8*math.sqrt(2)] #3rd Scale\n",
    "Sigma4 = [4*math.sqrt(2),8,8*math.sqrt(2),16,16*math.sqrt(2)] #4th Scale\n",
    "Filename1 = [\"octave4.1.png\",\"octave4.2.png\",\"octave4.3.png\",\"octave4.4.png\",\"octave4.5.png\"]\n",
    "Filename2 = [\"octave3.1.png\",\"octave3.2.png\",\"octave3.3.png\",\"octave3.4.png\",\"octave3.5.png\"]\n",
    "\n",
    "N = Img.shape[0]\n",
    "M = Img.shape[1]\n",
    "Oct1 = list()\n",
    "Oct2 = list()\n",
    "Oct3 = list()\n",
    "Oct4 = list()\n",
    "\n",
    "#1st Octave\n",
    "for i in range(5):\n",
    "    K= GaussianKer(Sigma1[i])    \n",
    "    Op = Convo(K,Img) \n",
    "    Oct1.append(Op)\n",
    "    \n",
    "#2nd Octave    \n",
    "Image_by_two = ResizeImage(Img)\n",
    "for i in range(5):\n",
    "    K= GaussianKer(Sigma2[i])    \n",
    "    Op = Convo(K,Image_by_two)\n",
    "    Oct2.append(Op)\n",
    "    \n",
    "\n",
    "#3rd Octave\n",
    "Image_by_four = ResizeImage(Image_by_two)\n",
    "for i in range(5):\n",
    "    K= GaussianKer(Sigma3[i])    \n",
    "    Op = Convo(K,Image_by_four) \n",
    "    cv2.imwrite(Filename2[i],Op)\n",
    "    Oct3.append(Op)\n",
    "\n",
    "#4th Octave\n",
    "Image_by_eight = ResizeImage(Image_by_four)\n",
    "for i in range(5):\n",
    "    K= GaussianKer(Sigma4[i])    \n",
    "    Op = Convo(K,Image_by_eight)\n",
    "    cv2.imwrite(Filename1[i],Op)\n",
    "    Oct4.append(Op)"
   ]
  },
  {
   "cell_type": "code",
   "execution_count": 19,
   "metadata": {},
   "outputs": [],
   "source": [
    "#1st DoG\n",
    "DoG11 = DoG(Oct1[0],Oct1[1])   \n",
    "DoG12 = DoG(Oct1[1],Oct1[2])\n",
    "DoG13 = DoG(Oct1[2],Oct1[3])\n",
    "DoG14 = DoG(Oct1[3],Oct1[4])\n",
    "#2nd DoG \n",
    "DoG21 = DoG(Oct2[0],Oct2[1])\n",
    "DoG22 = DoG(Oct2[1],Oct2[2])\n",
    "DoG23 = DoG(Oct2[2],Oct2[3])\n",
    "DoG24 = DoG(Oct2[3],Oct2[4])\n",
    "#3rd DoG\n",
    "DoG31 = DoG(Oct3[0],Oct3[1])\n",
    "DoG32 = DoG(Oct3[1],Oct3[2])\n",
    "DoG33 = DoG(Oct3[2],Oct3[3])\n",
    "DoG34 = DoG(Oct3[3],Oct3[4])\n",
    "#4th DoG\n",
    "DoG41 = DoG(Oct4[0],Oct4[1])\n",
    "DoG42 = DoG(Oct4[1],Oct4[2])\n",
    "DoG43 = DoG(Oct4[2],Oct4[3])\n",
    "DoG44 = DoG(Oct4[3],Oct4[4])"
   ]
  },
  {
   "cell_type": "code",
   "execution_count": 20,
   "metadata": {},
   "outputs": [],
   "source": [
    "#1st Keypoints\n",
    "KeyPoint1 = FindKeyPoint(DoG11,DoG12,DoG13)\n",
    "KeyPoint2 = FindKeyPoint(DoG12,DoG13,DoG14)\n",
    "#2nd Keypoints\n",
    "KeyPoint3 = FindKeyPoint(DoG21,DoG22,DoG23)\n",
    "KeyPoint4 = FindKeyPoint(DoG22,DoG23,DoG24)\n",
    "#3rd Keypoints\n",
    "KeyPoint5 = FindKeyPoint(DoG31,DoG32,DoG33)\n",
    "KeyPoint6 = FindKeyPoint(DoG32,DoG33,DoG34)\n",
    "#4th Keypoints\n",
    "KeyPoint7 = FindKeyPoint(DoG41,DoG42,DoG43)\n",
    "KeyPoint8 = FindKeyPoint(DoG42,DoG43,DoG44)"
   ]
  },
  {
   "cell_type": "code",
   "execution_count": 46,
   "metadata": {},
   "outputs": [],
   "source": [
    "Img = cv2.imread(\"task2.jpg\",0)  \n",
    "#1st Set of KeyPoints\n",
    "Img11 = ShowKeyPoint(KeyPoint1,1,Img) \n",
    "Img12 = ShowKeyPoint(KeyPoint2,1,Img)\n",
    "#2nd Set of KeyPoints\n",
    "Img21 = ShowKeyPoint(KeyPoint3,2,Img)\n",
    "Img22 = ShowKeyPoint(KeyPoint4,2,Img)\n",
    "#3rd Set of KeyPoints\n",
    "Img31 = ShowKeyPoint(KeyPoint5,4,Img)\n",
    "Img32 = ShowKeyPoint(KeyPoint6,4,Img)\n",
    "#4th Set of KeyPoints\n",
    "Img41 = ShowKeyPoint(KeyPoint7,8,Img)\n",
    "Img42 = ShowKeyPoint(KeyPoint8,8,Img)"
   ]
  },
  {
   "cell_type": "code",
   "execution_count": 50,
   "metadata": {},
   "outputs": [
    {
     "data": {
      "text/plain": [
       "True"
      ]
     },
     "execution_count": 50,
     "metadata": {},
     "output_type": "execute_result"
    }
   ],
   "source": [
    "cv2.imwrite(\"Keypoints11.png\",Img11) #Show keypoints for the 1st octave\n",
    "cv2.imwrite(\"Keypoints12.png\",Img12)\n",
    "cv2.imwrite(\"Keypoints21.png\",Img21)\n",
    "cv2.imwrite(\"Keypoints22.png\",Img22)\n",
    "cv2.imwrite(\"Keypoints31.png\",Img31)\n",
    "cv2.imwrite(\"Keypoints32.png\",Img32)\n",
    "cv2.imwrite(\"Keypoints41.png\",Img41)\n",
    "cv2.imwrite(\"Keypoints42.png\",Img42)"
   ]
  },
  {
   "cell_type": "code",
   "execution_count": 51,
   "metadata": {},
   "outputs": [
    {
     "name": "stdout",
     "output_type": "stream",
     "text": [
      "[[1, 1], [1, 35], [1, 79], [1, 112], [1, 136]]\n"
     ]
    }
   ],
   "source": [
    "L = FindLeftmostKey(KeyPoint1)\n",
    "print(L)"
   ]
  },
  {
   "cell_type": "code",
   "execution_count": 62,
   "metadata": {},
   "outputs": [
    {
     "data": {
      "text/plain": [
       "True"
      ]
     },
     "execution_count": 62,
     "metadata": {},
     "output_type": "execute_result"
    }
   ],
   "source": [
    "cv2.imwrite(\"DoG43.png\",DoG43)"
   ]
  },
  {
   "cell_type": "code",
   "execution_count": 61,
   "metadata": {},
   "outputs": [
    {
     "data": {
      "text/plain": [
       "True"
      ]
     },
     "execution_count": 61,
     "metadata": {},
     "output_type": "execute_result"
    }
   ],
   "source": [
    "cv2.imwrite(\"Keypoints31.png\",Img31)"
   ]
  },
  {
   "cell_type": "code",
   "execution_count": null,
   "metadata": {},
   "outputs": [],
   "source": []
  }
 ],
 "metadata": {
  "kernelspec": {
   "display_name": "Python 3",
   "language": "python",
   "name": "python3"
  },
  "language_info": {
   "codemirror_mode": {
    "name": "ipython",
    "version": 3
   },
   "file_extension": ".py",
   "mimetype": "text/x-python",
   "name": "python",
   "nbconvert_exporter": "python",
   "pygments_lexer": "ipython3",
   "version": "3.6.5"
  }
 },
 "nbformat": 4,
 "nbformat_minor": 2
}
